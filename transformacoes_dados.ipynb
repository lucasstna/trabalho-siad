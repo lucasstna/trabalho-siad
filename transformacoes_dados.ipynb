{
 "cells": [
  {
   "cell_type": "code",
   "execution_count": 1,
   "metadata": {},
   "outputs": [],
   "source": [
    "import requests\n",
    "import pandas as pd\n",
    "import os\n",
    "import wget"
   ]
  },
  {
   "cell_type": "code",
   "execution_count": 2,
   "metadata": {},
   "outputs": [],
   "source": [
    "root_folder = 'dados/'\n",
    "\n",
    "folder_renach = 'renach/'\n",
    "folder_infracoes = 'infracoes/'"
   ]
  },
  {
   "cell_type": "markdown",
   "metadata": {},
   "source": [
    "#### Lendo dados dos arquivos do RENACH"
   ]
  },
  {
   "cell_type": "code",
   "execution_count": null,
   "metadata": {},
   "outputs": [],
   "source": [
    "os.chdir(root_folder + folder_renach)\n",
    "\n",
    "for ano in [2018, 2019, 2020, 2021, 2022]:\n",
    "    for mes in range(1, 13):    \n",
    "        \n",
    "        try:\n",
    "            data = f'{ano}_{mes:02d}'\n",
    "            url = f'https://www.gov.br/transportes/pt-br/assuntos/transito/arquivos-senatran/estatisticas/renach/csv/condutores_habilitados_{data}.csv'\n",
    "            \n",
    "            wget.download(url)\n",
    "        except:\n",
    "            data = f'{ano}-{mes:02d}'\n",
    "            url = f'https://www.gov.br/transportes/pt-br/assuntos/transito/arquivos-senatran/estatisticas/renach/csv/condutores_habilitados_{data}.csv'\n",
    "\n",
    "            wget.download(url)\n",
    "\n",
    "os.chdir('../..')            "
   ]
  },
  {
   "cell_type": "code",
   "execution_count": null,
   "metadata": {},
   "outputs": [],
   "source": [
    "df_result = pd.DataFrame()\n",
    "\n",
    "for file in os.listdir(root_folder + folder_renach):\n",
    "    df = pd.read_csv(root_folder + folder_renach + file, encoding='utf_16', decimal=',', thousands='.')\n",
    "\n",
    "    file = file.replace('-', '_')  \n",
    "    df['ano_mes'] = int(file.split('_')[2] + file.split('_')[3].split('.')[0])\n",
    "    df_result = pd.concat([df_result, df], axis='index')"
   ]
  },
  {
   "cell_type": "markdown",
   "metadata": {},
   "source": [
    "## Adiquirindo a relação de nome/sigla das UFs"
   ]
  },
  {
   "cell_type": "code",
   "execution_count": null,
   "metadata": {},
   "outputs": [],
   "source": [
    "response = requests.get('http://servicodados.ibge.gov.br/api/v1/localidades/estados?orderBy=id').json()"
   ]
  },
  {
   "cell_type": "code",
   "execution_count": null,
   "metadata": {},
   "outputs": [],
   "source": [
    "ufs = {}\n",
    "for uf in response: ufs[uf['nome']] = uf['sigla']"
   ]
  },
  {
   "cell_type": "code",
   "execution_count": null,
   "metadata": {},
   "outputs": [],
   "source": [
    "df_result['uf'] = [ufs[nome_uf] for nome_uf in df_result['UF Habilitação Atual']]\n",
    "df_result['categoria_cnh'] = df_result['Categoria'].str.split('-', expand=True)[0]"
   ]
  },
  {
   "cell_type": "code",
   "execution_count": null,
   "metadata": {},
   "outputs": [],
   "source": [
    "df_result = df_result[['uf', 'Sexo', 'Faixa Etária', 'categoria_cnh', 'Qt. Condutor Histórico', 'ano_mes']]\n",
    "\n",
    "quantidade_condutores = df_result.rename(columns={\n",
    "    'Sexo':'sexo',\n",
    "    'Faixa Etária':'faixa_etaria',\n",
    "    'Qt. Condutor Histórico':'qtd_condutores'\n",
    "})"
   ]
  },
  {
   "cell_type": "code",
   "execution_count": null,
   "metadata": {},
   "outputs": [],
   "source": [
    "quantidade_condutores"
   ]
  },
  {
   "cell_type": "markdown",
   "metadata": {},
   "source": [
    "## Adiquirindo dados sobre os tipos de infrações"
   ]
  },
  {
   "cell_type": "code",
   "execution_count": null,
   "metadata": {},
   "outputs": [],
   "source": [
    "os.chdir(root_folder + folder_infracoes)\n",
    "\n",
    "try:\n",
    "    url = 'https://www.gov.br/transportes/pt-br/centrais-de-conteudo/tabela-codigo-infracoes-renainf-xlsx'\n",
    "    \n",
    "    wget.download(url)\n",
    "except:\n",
    "    print('Erro de download.')\n",
    "\n",
    "os.chdir('../..')  "
   ]
  },
  {
   "cell_type": "code",
   "execution_count": null,
   "metadata": {},
   "outputs": [],
   "source": [
    "df_infracoes = pd.read_excel(root_folder + folder_infracoes + 'teste/tabela-codigo-infracoes-renainf-xlsx', engine='openpyxl')"
   ]
  },
  {
   "cell_type": "code",
   "execution_count": null,
   "metadata": {},
   "outputs": [],
   "source": [
    "df_infracoes['id'] = df_infracoes.index + 1\n",
    "df_infracoes = df_infracoes[['id', 'Código da Infração', 'Descrição da Infração', 'Gravidade', 'Órgão Competente']]\n",
    "\n",
    "infracoes = df_infracoes.rename(columns={\n",
    "    'Código da Infração':'codigo_infracao',\n",
    "    'Descrição da Infração':'descricao_infracao',\n",
    "    'Gravidade':'gravidade',\n",
    "    'Órgão Competente':'orgao_competente'\n",
    "})"
   ]
  },
  {
   "cell_type": "code",
   "execution_count": null,
   "metadata": {},
   "outputs": [],
   "source": [
    "infracoes"
   ]
  },
  {
   "cell_type": "markdown",
   "metadata": {},
   "source": [
    "## Adiquirindo dados do RENAEST"
   ]
  },
  {
   "cell_type": "markdown",
   "metadata": {},
   "source": [
    "#### Localidade"
   ]
  },
  {
   "cell_type": "code",
   "execution_count": null,
   "metadata": {},
   "outputs": [],
   "source": [
    "df_localidade = pd.read_csv('dados/renaest/Localidade_DadosAbertos_20230912.csv', sep=';')"
   ]
  },
  {
   "cell_type": "code",
   "execution_count": null,
   "metadata": {},
   "outputs": [],
   "source": [
    "df_localidade.head()"
   ]
  },
  {
   "cell_type": "code",
   "execution_count": null,
   "metadata": {},
   "outputs": [],
   "source": [
    "df_localidade.drop_duplicates(subset=['mes_ano_referencia', 'codigo_ibge'], inplace=True)\n",
    "df_localidade = df_localidade[df_localidade['ano_referencia'] < 2023]\n",
    "\n",
    "df_localidade['ano_mes'] = df_localidade['ano_referencia'] * 100 + df_localidade['mes_referencia']\n",
    "df_localidade['metropolitana'] = df_localidade['regiao_metropolitana'] == 'sim'\n",
    "\n",
    "df_localidade = df_localidade.rename(columns={\n",
    "    'qtde_habitantes':'qtd_habitantes'\n",
    "})"
   ]
  },
  {
   "cell_type": "code",
   "execution_count": null,
   "metadata": {},
   "outputs": [],
   "source": [
    "localidade = df_localidade[['ano_mes', 'municipio', 'uf', 'metropolitana', 'qtd_habitantes', 'frota_total', 'frota_circulante', 'regiao', 'codigo_ibge']].reset_index(drop=True)\n",
    "localidade['id'] = localidade.index + 1"
   ]
  },
  {
   "cell_type": "code",
   "execution_count": null,
   "metadata": {},
   "outputs": [],
   "source": [
    "localidade"
   ]
  },
  {
   "cell_type": "markdown",
   "metadata": {},
   "source": [
    "#### Acidentes"
   ]
  },
  {
   "cell_type": "code",
   "execution_count": 3,
   "metadata": {},
   "outputs": [
    {
     "name": "stderr",
     "output_type": "stream",
     "text": [
      "/tmp/ipykernel_5482/1315882353.py:1: DtypeWarning: Columns (15) have mixed types. Specify dtype option on import or set low_memory=False.\n",
      "  df_acidentes = pd.read_csv('dados/renaest/Acidentes_DadosAbertos_20230912.csv', sep=';')\n"
     ]
    }
   ],
   "source": [
    "df_acidentes = pd.read_csv('dados/renaest/Acidentes_DadosAbertos_20230912.csv', sep=';')"
   ]
  },
  {
   "cell_type": "code",
   "execution_count": 4,
   "metadata": {},
   "outputs": [
    {
     "data": {
      "text/plain": [
       "Index(['num_acidente', 'chv_localidade', 'data_acidente', 'uf_acidente',\n",
       "       'ano_acidente', 'mes_acidente', 'mes_ano_acidente', 'codigo_ibge',\n",
       "       'dia_semana', 'fase_dia', 'tp_acidente', 'cond_meteorologica',\n",
       "       'end_acidente', 'num_end_acidente', 'cep_acidente', 'bairro_acidente',\n",
       "       'km_via_acidente', 'latitude_acidente', 'longitude_acidente',\n",
       "       'hora_acidente', 'tp_rodovia', 'cond_pista', 'tp_cruzamento',\n",
       "       'tp_pavimento', 'tp_curva', 'lim_velocidade', 'tp_pista',\n",
       "       'ind_guardrail', 'ind_cantcentral', 'ind_acostamento', 'qtde_acidente',\n",
       "       'qtde_acid_com_obitos', 'qtde_envolvidos', 'qtde_feridosilesos',\n",
       "       'qtde_obitos'],\n",
       "      dtype='object')"
      ]
     },
     "execution_count": 4,
     "metadata": {},
     "output_type": "execute_result"
    }
   ],
   "source": [
    "df_acidentes.columns"
   ]
  },
  {
   "cell_type": "markdown",
   "metadata": {},
   "source": [
    "#### Veículo"
   ]
  },
  {
   "cell_type": "code",
   "execution_count": 11,
   "metadata": {},
   "outputs": [],
   "source": [
    "df_veiculo = pd.read_csv('dados/renaest/TipoVeiculo_DadosAbertos_20230912.csv', sep=';')"
   ]
  },
  {
   "cell_type": "code",
   "execution_count": 15,
   "metadata": {},
   "outputs": [],
   "source": [
    "df_veiculo.drop_duplicates(subset=['tipo_veiculo'], inplace=True)\n",
    "df_veiculo = df_veiculo[['tipo_veiculo']].reset_index(drop=True)\n",
    "df_veiculo['id'] = df_veiculo.index + 1"
   ]
  },
  {
   "cell_type": "code",
   "execution_count": 16,
   "metadata": {},
   "outputs": [],
   "source": [
    "veiculo = df_veiculo.rename(columns={\n",
    "    'tipo_veiculo':'tipo'\n",
    "})"
   ]
  },
  {
   "cell_type": "code",
   "execution_count": 17,
   "metadata": {},
   "outputs": [
    {
     "data": {
      "text/html": [
       "<div>\n",
       "<style scoped>\n",
       "    .dataframe tbody tr th:only-of-type {\n",
       "        vertical-align: middle;\n",
       "    }\n",
       "\n",
       "    .dataframe tbody tr th {\n",
       "        vertical-align: top;\n",
       "    }\n",
       "\n",
       "    .dataframe thead th {\n",
       "        text-align: right;\n",
       "    }\n",
       "</style>\n",
       "<table border=\"1\" class=\"dataframe\">\n",
       "  <thead>\n",
       "    <tr style=\"text-align: right;\">\n",
       "      <th></th>\n",
       "      <th>tipo</th>\n",
       "      <th>id</th>\n",
       "    </tr>\n",
       "  </thead>\n",
       "  <tbody>\n",
       "    <tr>\n",
       "      <th>0</th>\n",
       "      <td>NAO INFORMADO</td>\n",
       "      <td>1</td>\n",
       "    </tr>\n",
       "    <tr>\n",
       "      <th>1</th>\n",
       "      <td>AUTOMOVEL</td>\n",
       "      <td>2</td>\n",
       "    </tr>\n",
       "    <tr>\n",
       "      <th>2</th>\n",
       "      <td>BICICLETA</td>\n",
       "      <td>3</td>\n",
       "    </tr>\n",
       "    <tr>\n",
       "      <th>3</th>\n",
       "      <td>BONDE</td>\n",
       "      <td>4</td>\n",
       "    </tr>\n",
       "    <tr>\n",
       "      <th>4</th>\n",
       "      <td>CAMINHAO</td>\n",
       "      <td>5</td>\n",
       "    </tr>\n",
       "    <tr>\n",
       "      <th>5</th>\n",
       "      <td>CAMINHAO-TRATOR</td>\n",
       "      <td>6</td>\n",
       "    </tr>\n",
       "    <tr>\n",
       "      <th>6</th>\n",
       "      <td>CAMINHONETE</td>\n",
       "      <td>7</td>\n",
       "    </tr>\n",
       "    <tr>\n",
       "      <th>7</th>\n",
       "      <td>CAMIONETA</td>\n",
       "      <td>8</td>\n",
       "    </tr>\n",
       "    <tr>\n",
       "      <th>8</th>\n",
       "      <td>CARRO DE MAO</td>\n",
       "      <td>9</td>\n",
       "    </tr>\n",
       "    <tr>\n",
       "      <th>9</th>\n",
       "      <td>CARROCA</td>\n",
       "      <td>10</td>\n",
       "    </tr>\n",
       "    <tr>\n",
       "      <th>10</th>\n",
       "      <td>CHARRETE</td>\n",
       "      <td>11</td>\n",
       "    </tr>\n",
       "    <tr>\n",
       "      <th>11</th>\n",
       "      <td>CICLO</td>\n",
       "      <td>12</td>\n",
       "    </tr>\n",
       "    <tr>\n",
       "      <th>12</th>\n",
       "      <td>CICLOMOTOR</td>\n",
       "      <td>13</td>\n",
       "    </tr>\n",
       "    <tr>\n",
       "      <th>13</th>\n",
       "      <td>MICRO-ONIBUS</td>\n",
       "      <td>14</td>\n",
       "    </tr>\n",
       "    <tr>\n",
       "      <th>14</th>\n",
       "      <td>MOTOCICLETA</td>\n",
       "      <td>15</td>\n",
       "    </tr>\n",
       "    <tr>\n",
       "      <th>15</th>\n",
       "      <td>MOTONETA</td>\n",
       "      <td>16</td>\n",
       "    </tr>\n",
       "    <tr>\n",
       "      <th>16</th>\n",
       "      <td>MOTORCASA(MOTORHOME)</td>\n",
       "      <td>17</td>\n",
       "    </tr>\n",
       "    <tr>\n",
       "      <th>17</th>\n",
       "      <td>ONIBUS</td>\n",
       "      <td>18</td>\n",
       "    </tr>\n",
       "    <tr>\n",
       "      <th>18</th>\n",
       "      <td>QUADRICICLO</td>\n",
       "      <td>19</td>\n",
       "    </tr>\n",
       "    <tr>\n",
       "      <th>19</th>\n",
       "      <td>REBOQUE</td>\n",
       "      <td>20</td>\n",
       "    </tr>\n",
       "    <tr>\n",
       "      <th>20</th>\n",
       "      <td>SEMIRREBOQUE</td>\n",
       "      <td>21</td>\n",
       "    </tr>\n",
       "    <tr>\n",
       "      <th>21</th>\n",
       "      <td>TRAILER</td>\n",
       "      <td>22</td>\n",
       "    </tr>\n",
       "    <tr>\n",
       "      <th>22</th>\n",
       "      <td>TRATOR</td>\n",
       "      <td>23</td>\n",
       "    </tr>\n",
       "    <tr>\n",
       "      <th>23</th>\n",
       "      <td>TREMINHAO</td>\n",
       "      <td>24</td>\n",
       "    </tr>\n",
       "    <tr>\n",
       "      <th>24</th>\n",
       "      <td>TRICICLO</td>\n",
       "      <td>25</td>\n",
       "    </tr>\n",
       "    <tr>\n",
       "      <th>25</th>\n",
       "      <td>UTILITARIO</td>\n",
       "      <td>26</td>\n",
       "    </tr>\n",
       "    <tr>\n",
       "      <th>26</th>\n",
       "      <td>VEICULO ARTICULADO</td>\n",
       "      <td>27</td>\n",
       "    </tr>\n",
       "    <tr>\n",
       "      <th>27</th>\n",
       "      <td>VEICULO CONJUGADO</td>\n",
       "      <td>28</td>\n",
       "    </tr>\n",
       "    <tr>\n",
       "      <th>28</th>\n",
       "      <td>VEICULO MISTO</td>\n",
       "      <td>29</td>\n",
       "    </tr>\n",
       "    <tr>\n",
       "      <th>29</th>\n",
       "      <td>PATINETE/PATINETE ELETRICO</td>\n",
       "      <td>30</td>\n",
       "    </tr>\n",
       "    <tr>\n",
       "      <th>30</th>\n",
       "      <td>METRO</td>\n",
       "      <td>31</td>\n",
       "    </tr>\n",
       "    <tr>\n",
       "      <th>31</th>\n",
       "      <td>TREM</td>\n",
       "      <td>32</td>\n",
       "    </tr>\n",
       "    <tr>\n",
       "      <th>32</th>\n",
       "      <td>TROLEBUS</td>\n",
       "      <td>33</td>\n",
       "    </tr>\n",
       "    <tr>\n",
       "      <th>33</th>\n",
       "      <td>VEICULO DE SERVICO</td>\n",
       "      <td>34</td>\n",
       "    </tr>\n",
       "    <tr>\n",
       "      <th>34</th>\n",
       "      <td>DESCONHECIDO</td>\n",
       "      <td>35</td>\n",
       "    </tr>\n",
       "  </tbody>\n",
       "</table>\n",
       "</div>"
      ],
      "text/plain": [
       "                          tipo  id\n",
       "0                NAO INFORMADO   1\n",
       "1                    AUTOMOVEL   2\n",
       "2                    BICICLETA   3\n",
       "3                        BONDE   4\n",
       "4                     CAMINHAO   5\n",
       "5              CAMINHAO-TRATOR   6\n",
       "6                  CAMINHONETE   7\n",
       "7                    CAMIONETA   8\n",
       "8                 CARRO DE MAO   9\n",
       "9                      CARROCA  10\n",
       "10                    CHARRETE  11\n",
       "11                       CICLO  12\n",
       "12                  CICLOMOTOR  13\n",
       "13                MICRO-ONIBUS  14\n",
       "14                 MOTOCICLETA  15\n",
       "15                    MOTONETA  16\n",
       "16        MOTORCASA(MOTORHOME)  17\n",
       "17                      ONIBUS  18\n",
       "18                 QUADRICICLO  19\n",
       "19                     REBOQUE  20\n",
       "20                SEMIRREBOQUE  21\n",
       "21                     TRAILER  22\n",
       "22                      TRATOR  23\n",
       "23                   TREMINHAO  24\n",
       "24                    TRICICLO  25\n",
       "25                  UTILITARIO  26\n",
       "26          VEICULO ARTICULADO  27\n",
       "27           VEICULO CONJUGADO  28\n",
       "28               VEICULO MISTO  29\n",
       "29  PATINETE/PATINETE ELETRICO  30\n",
       "30                       METRO  31\n",
       "31                        TREM  32\n",
       "32                    TROLEBUS  33\n",
       "33          VEICULO DE SERVICO  34\n",
       "34                DESCONHECIDO  35"
      ]
     },
     "execution_count": 17,
     "metadata": {},
     "output_type": "execute_result"
    }
   ],
   "source": [
    "veiculo"
   ]
  },
  {
   "cell_type": "markdown",
   "metadata": {},
   "source": [
    "## Adiquirindo os dados de quantidades de infrações"
   ]
  },
  {
   "cell_type": "code",
   "execution_count": null,
   "metadata": {},
   "outputs": [],
   "source": [
    "os.chdir(root_folder + folder_infracoes)\n",
    "\n",
    "for ano in [2019, 2020, 2021, 2022]:\n",
    "    for mes in range(1, 13):    \n",
    "        \n",
    "        try:\n",
    "            data = f'{ano}_{mes:02d}'\n",
    "            url = f'https://www.gov.br/transportes/pt-br/assuntos/transito/arquivos-senatran/estatisticas/renainf/csv/{data}_infracoes_com_np.csv'\n",
    "            \n",
    "            wget.download(url)\n",
    "        except:\n",
    "            data = f'{ano}-{mes:02d}'\n",
    "            url = f'https://www.gov.br/transportes/pt-br/assuntos/transito/arquivos-senatran/estatisticas/renainf/csv/{data}_infracoes_com_np.csv'\n",
    "\n",
    "            wget.download(url)\n",
    "\n",
    "os.chdir('../..')            "
   ]
  },
  {
   "cell_type": "code",
   "execution_count": null,
   "metadata": {},
   "outputs": [],
   "source": [
    "df_result = pd.DataFrame()\n",
    "\n",
    "for file in os.listdir(root_folder + folder_infracoes):\n",
    "    df = pd.read_csv(root_folder + folder_infracoes + file, sep=';', encoding='ISO-8859-1')\n",
    "\n",
    "    file = file.replace('-', '_')  \n",
    "    print(file)\n",
    "    df['ano_mes'] = int(file.split('_')[0] + file.split('_')[1])\n",
    "    df_result = pd.concat([df_result, df], axis='index')"
   ]
  },
  {
   "cell_type": "code",
   "execution_count": null,
   "metadata": {},
   "outputs": [],
   "source": [
    "df = pd.read_excel('/home/lucas/Downloads/2022_09_infracoes_com_np.xlsx', engine='openpyxl')"
   ]
  },
  {
   "cell_type": "code",
   "execution_count": null,
   "metadata": {},
   "outputs": [],
   "source": [
    "df"
   ]
  },
  {
   "cell_type": "code",
   "execution_count": null,
   "metadata": {},
   "outputs": [],
   "source": [
    "localidade_url = 'http://servicodados.ibge.gov.br/api/v1/localidades/municipios'\n",
    "\n",
    "response = requests.get(url=localidade_url).json()"
   ]
  },
  {
   "cell_type": "code",
   "execution_count": null,
   "metadata": {},
   "outputs": [],
   "source": [
    "response[0]"
   ]
  }
 ],
 "metadata": {
  "kernelspec": {
   "display_name": "Python 3",
   "language": "python",
   "name": "python3"
  },
  "language_info": {
   "codemirror_mode": {
    "name": "ipython",
    "version": 3
   },
   "file_extension": ".py",
   "mimetype": "text/x-python",
   "name": "python",
   "nbconvert_exporter": "python",
   "pygments_lexer": "ipython3",
   "version": "3.8.18"
  }
 },
 "nbformat": 4,
 "nbformat_minor": 2
}
