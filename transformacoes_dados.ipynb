{
 "cells": [
  {
   "cell_type": "code",
   "execution_count": null,
   "metadata": {},
   "outputs": [],
   "source": [
    "import requests\n",
    "import pandas as pd\n",
    "import os\n",
    "import wget"
   ]
  },
  {
   "cell_type": "code",
   "execution_count": null,
   "metadata": {},
   "outputs": [],
   "source": [
    "root_folder = 'dados/'\n",
    "\n",
    "folder_renach = 'renach/'\n",
    "folder_infracoes = 'infracoes/'"
   ]
  },
  {
   "cell_type": "markdown",
   "metadata": {},
   "source": [
    "#### Lendo dados dos arquivos do RENACH"
   ]
  },
  {
   "cell_type": "code",
   "execution_count": null,
   "metadata": {},
   "outputs": [],
   "source": [
    "os.chdir(root_folder + folder_renach)\n",
    "\n",
    "for ano in [2018, 2019, 2020, 2021, 2022]:\n",
    "    for mes in range(1, 13):    \n",
    "        \n",
    "        try:\n",
    "            data = f'{ano}_{mes:02d}'\n",
    "            url = f'https://www.gov.br/transportes/pt-br/assuntos/transito/arquivos-senatran/estatisticas/renach/csv/condutores_habilitados_{data}.csv'\n",
    "            \n",
    "            wget.download(url)\n",
    "        except:\n",
    "            data = f'{ano}-{mes:02d}'\n",
    "            url = f'https://www.gov.br/transportes/pt-br/assuntos/transito/arquivos-senatran/estatisticas/renach/csv/condutores_habilitados_{data}.csv'\n",
    "\n",
    "            wget.download(url)\n",
    "\n",
    "os.chdir('../..')            "
   ]
  },
  {
   "cell_type": "code",
   "execution_count": null,
   "metadata": {},
   "outputs": [],
   "source": [
    "df_result = pd.DataFrame()\n",
    "\n",
    "for file in os.listdir(root_folder + folder_renach):\n",
    "    df = pd.read_csv(root_folder + folder_renach + file, encoding='utf_16', decimal=',', thousands='.')\n",
    "\n",
    "    file = file.replace('-', '_')  \n",
    "    df['ano_mes'] = int(file.split('_')[2] + file.split('_')[3].split('.')[0])\n",
    "    df_result = pd.concat([df_result, df], axis='index')"
   ]
  },
  {
   "cell_type": "markdown",
   "metadata": {},
   "source": [
    "## Adiquirindo a relação de nome/sigla das UFs"
   ]
  },
  {
   "cell_type": "code",
   "execution_count": null,
   "metadata": {},
   "outputs": [],
   "source": [
    "response = requests.get('http://servicodados.ibge.gov.br/api/v1/localidades/estados?orderBy=id').json()"
   ]
  },
  {
   "cell_type": "code",
   "execution_count": null,
   "metadata": {},
   "outputs": [],
   "source": [
    "ufs = {}\n",
    "for uf in response: ufs[uf['nome']] = uf['sigla']"
   ]
  },
  {
   "cell_type": "code",
   "execution_count": null,
   "metadata": {},
   "outputs": [],
   "source": [
    "df_result['uf'] = [ufs[nome_uf] for nome_uf in df_result['UF Habilitação Atual']]\n",
    "df_result['categoria_cnh'] = df_result['Categoria'].str.split('-', expand=True)[0]"
   ]
  },
  {
   "cell_type": "code",
   "execution_count": null,
   "metadata": {},
   "outputs": [],
   "source": [
    "df_result = df_result[['uf', 'Sexo', 'Faixa Etária', 'categoria_cnh', 'Qt. Condutor Histórico', 'ano_mes']]\n",
    "\n",
    "quantidade_condutores = df_result.rename(columns={\n",
    "    'Sexo':'sexo',\n",
    "    'Faixa Etária':'faixa_etaria',\n",
    "    'Qt. Condutor Histórico':'qtd_condutores'\n",
    "})"
   ]
  },
  {
   "cell_type": "code",
   "execution_count": null,
   "metadata": {},
   "outputs": [],
   "source": [
    "quantidade_condutores"
   ]
  },
  {
   "cell_type": "markdown",
   "metadata": {},
   "source": [
    "## Adiquirindo dados sobre os tipos de infrações"
   ]
  },
  {
   "cell_type": "code",
   "execution_count": null,
   "metadata": {},
   "outputs": [],
   "source": [
    "os.chdir(root_folder + folder_infracoes)\n",
    "\n",
    "try:\n",
    "    url = 'https://www.gov.br/transportes/pt-br/centrais-de-conteudo/tabela-codigo-infracoes-renainf-xlsx'\n",
    "    \n",
    "    wget.download(url)\n",
    "except:\n",
    "    print('Erro de download.')\n",
    "\n",
    "os.chdir('../..')  "
   ]
  },
  {
   "cell_type": "code",
   "execution_count": null,
   "metadata": {},
   "outputs": [],
   "source": [
    "df_infracoes = pd.read_excel(root_folder + folder_infracoes + 'teste/tabela-codigo-infracoes-renainf-xlsx', engine='openpyxl')"
   ]
  },
  {
   "cell_type": "code",
   "execution_count": null,
   "metadata": {},
   "outputs": [],
   "source": [
    "df_infracoes['id'] = df_infracoes.index + 1\n",
    "df_infracoes = df_infracoes[['id', 'Código da Infração', 'Descrição da Infração', 'Gravidade', 'Órgão Competente']]\n",
    "\n",
    "infracoes = df_infracoes.rename(columns={\n",
    "    'Código da Infração':'codigo_infracao',\n",
    "    'Descrição da Infração':'descricao_infracao',\n",
    "    'Gravidade':'gravidade',\n",
    "    'Órgão Competente':'orgao_competente'\n",
    "})"
   ]
  },
  {
   "cell_type": "code",
   "execution_count": null,
   "metadata": {},
   "outputs": [],
   "source": [
    "infracoes"
   ]
  },
  {
   "cell_type": "markdown",
   "metadata": {},
   "source": [
    "## Adiquirindo dados do RENAEST"
   ]
  },
  {
   "cell_type": "markdown",
   "metadata": {},
   "source": [
    "#### Localidade"
   ]
  },
  {
   "cell_type": "code",
   "execution_count": null,
   "metadata": {},
   "outputs": [],
   "source": [
    "df_localidade = pd.read_csv('dados/renaest/Localidade_DadosAbertos_20230912.csv', sep=';')"
   ]
  },
  {
   "cell_type": "code",
   "execution_count": null,
   "metadata": {},
   "outputs": [],
   "source": [
    "df_localidade.head()"
   ]
  },
  {
   "cell_type": "code",
   "execution_count": null,
   "metadata": {},
   "outputs": [],
   "source": [
    "df_localidade.drop_duplicates(subset=['mes_ano_referencia', 'codigo_ibge'], inplace=True)\n",
    "df_localidade = df_localidade[df_localidade['ano_referencia'] < 2023]\n",
    "\n",
    "df_localidade['ano_mes'] = df_localidade['ano_referencia'] * 100 + df_localidade['mes_referencia']\n",
    "df_localidade['metropolitana'] = df_localidade['regiao_metropolitana'] == 'sim'\n",
    "\n",
    "df_localidade = df_localidade.rename(columns={\n",
    "    'qtde_habitantes':'qtd_habitantes'\n",
    "})"
   ]
  },
  {
   "cell_type": "code",
   "execution_count": null,
   "metadata": {},
   "outputs": [],
   "source": [
    "localidade = df_localidade[['ano_mes', 'municipio', 'uf', 'metropolitana', 'qtd_habitantes', 'frota_total', 'frota_circulante', 'regiao', 'codigo_ibge']].reset_index(drop=True)\n",
    "localidade['id'] = localidade.index + 1"
   ]
  },
  {
   "cell_type": "code",
   "execution_count": null,
   "metadata": {},
   "outputs": [],
   "source": [
    "localidade"
   ]
  },
  {
   "cell_type": "markdown",
   "metadata": {},
   "source": [
    "#### Acidentes"
   ]
  },
  {
   "cell_type": "code",
   "execution_count": null,
   "metadata": {},
   "outputs": [],
   "source": [
    "df_acidentes = pd.read_csv('dados/renaest/Acidentes_DadosAbertos_20230912.csv', sep=';')"
   ]
  },
  {
   "cell_type": "code",
   "execution_count": null,
   "metadata": {},
   "outputs": [],
   "source": [
    "df_acidentes.columns"
   ]
  },
  {
   "cell_type": "markdown",
   "metadata": {},
   "source": [
    "## Adiquirindo os dados de quantidades de infrações"
   ]
  },
  {
   "cell_type": "code",
   "execution_count": null,
   "metadata": {},
   "outputs": [],
   "source": [
    "os.chdir(root_folder + folder_infracoes)\n",
    "\n",
    "for ano in [2019, 2020, 2021, 2022]:\n",
    "    for mes in range(1, 13):    \n",
    "        \n",
    "        try:\n",
    "            data = f'{ano}_{mes:02d}'\n",
    "            url = f'https://www.gov.br/transportes/pt-br/assuntos/transito/arquivos-senatran/estatisticas/renainf/csv/{data}_infracoes_com_np.csv'\n",
    "            \n",
    "            wget.download(url)\n",
    "        except:\n",
    "            data = f'{ano}-{mes:02d}'\n",
    "            url = f'https://www.gov.br/transportes/pt-br/assuntos/transito/arquivos-senatran/estatisticas/renainf/csv/{data}_infracoes_com_np.csv'\n",
    "\n",
    "            wget.download(url)\n",
    "\n",
    "os.chdir('../..')            "
   ]
  },
  {
   "cell_type": "code",
   "execution_count": null,
   "metadata": {},
   "outputs": [],
   "source": [
    "df_result = pd.DataFrame()\n",
    "\n",
    "for file in os.listdir(root_folder + folder_infracoes):\n",
    "    df = pd.read_csv(root_folder + folder_infracoes + file, sep=';', encoding='ISO-8859-1')\n",
    "\n",
    "    file = file.replace('-', '_')  \n",
    "    print(file)\n",
    "    df['ano_mes'] = int(file.split('_')[0] + file.split('_')[1])\n",
    "    df_result = pd.concat([df_result, df], axis='index')"
   ]
  },
  {
   "cell_type": "code",
   "execution_count": null,
   "metadata": {},
   "outputs": [],
   "source": [
    "df = pd.read_excel('/home/lucas/Downloads/2022_09_infracoes_com_np.xlsx', engine='openpyxl')"
   ]
  },
  {
   "cell_type": "code",
   "execution_count": null,
   "metadata": {},
   "outputs": [],
   "source": [
    "df"
   ]
  },
  {
   "cell_type": "code",
   "execution_count": null,
   "metadata": {},
   "outputs": [],
   "source": [
    "localidade_url = 'http://servicodados.ibge.gov.br/api/v1/localidades/municipios'\n",
    "\n",
    "response = requests.get(url=localidade_url).json()"
   ]
  },
  {
   "cell_type": "code",
   "execution_count": null,
   "metadata": {},
   "outputs": [],
   "source": [
    "response[0]"
   ]
  }
 ],
 "metadata": {
  "kernelspec": {
   "display_name": "Python 3",
   "language": "python",
   "name": "python3"
  },
  "language_info": {
   "codemirror_mode": {
    "name": "ipython",
    "version": 3
   },
   "file_extension": ".py",
   "mimetype": "text/x-python",
   "name": "python",
   "nbconvert_exporter": "python",
   "pygments_lexer": "ipython3",
   "version": "3.8.18"
  }
 },
 "nbformat": 4,
 "nbformat_minor": 2
}
